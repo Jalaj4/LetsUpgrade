{
 "cells": [
  {
   "cell_type": "markdown",
   "metadata": {},
   "source": [
    "# Question 1"
   ]
  },
  {
   "cell_type": "markdown",
   "metadata": {},
   "source": [
    "1. We can perform modulo operation on complex numbers by using abs() function.\n",
    "2. We cannot perform floor division on complex numbers."
   ]
  },
  {
   "cell_type": "code",
   "execution_count": 7,
   "metadata": {},
   "outputs": [
    {
     "name": "stdout",
     "output_type": "stream",
     "text": [
      "Addition is:  (8+12j)\n",
      "Subtraction is:  (-4-6j)\n",
      "Multiplication is:  (-15+36j)\n",
      "Division is:  (0.3333333333333333+0j)\n",
      "Modulo of x:  3.605551275463989\n",
      "Modulo of y: 10.816653826391969\n"
     ]
    }
   ],
   "source": [
    "x = complex(2,3)\n",
    "y = complex(6,9)\n",
    "a = x+y\n",
    "b = x-y\n",
    "c = x*y\n",
    "d = x/y\n",
    "e = abs(x)\n",
    "f = abs(y)\n",
    "print(\"Addition is: \",a)\n",
    "print(\"Subtraction is: \",b)\n",
    "print(\"Multiplication is: \",c)\n",
    "print(\"Division is: \",d)\n",
    "print(\"Modulo of x: \",e)\n",
    "print(\"Modulo of y:\",f)"
   ]
  },
  {
   "cell_type": "markdown",
   "metadata": {},
   "source": [
    "# Question 2"
   ]
  },
  {
   "cell_type": "markdown",
   "metadata": {},
   "source": [
    "**range()** : It is the inbuilt function. It is used when we have to do any action for a number of times. eg. If we wanna go from 0 to 5 the we use range(0,5)."
   ]
  },
  {
   "cell_type": "markdown",
   "metadata": {},
   "source": [
    "**Parameters of range()** : \n",
    "1. Start : It specifies at which position to start from.\n",
    "2. Stop : It specifies at which position to stop.\n",
    "3. Step : It specifies the incrementation."
   ]
  },
  {
   "cell_type": "code",
   "execution_count": 10,
   "metadata": {},
   "outputs": [
    {
     "name": "stdout",
     "output_type": "stream",
     "text": [
      "0 3 6 9 12 15 18 21 24 27 30 33 36 39 "
     ]
    }
   ],
   "source": [
    "# using range to print numbers divisible by 3\n",
    "for i in range(0,40,3):\n",
    "    print(i, end=\" \")"
   ]
  },
  {
   "cell_type": "markdown",
   "metadata": {},
   "source": [
    "# Question 3 "
   ]
  },
  {
   "cell_type": "code",
   "execution_count": 15,
   "metadata": {},
   "outputs": [
    {
     "name": "stdout",
     "output_type": "stream",
     "text": [
      "396\n",
      "Multiplication : 3265920\n"
     ]
    }
   ],
   "source": [
    "a = 2016\n",
    "b = 1620\n",
    "c = a-b\n",
    "print(c)\n",
    "if c>25:\n",
    "    print(\"Multiplication :\",a*b)\n",
    "else:\n",
    "    print(\"Division :\",a/b)"
   ]
  },
  {
   "cell_type": "markdown",
   "metadata": {},
   "source": [
    "# Question 4"
   ]
  },
  {
   "cell_type": "code",
   "execution_count": 32,
   "metadata": {},
   "outputs": [
    {
     "name": "stdout",
     "output_type": "stream",
     "text": [
      "2\n",
      "254\n",
      "398\n",
      "14\n"
     ]
    }
   ],
   "source": [
    "l = [ 1,3,2,16,20,4,15,7,9,11]\n",
    "for i in range(0 , len(l)):\n",
    "    if l[i]%2 == 0:\n",
    "        print(l[i]**2-2)\n",
    "    \n"
   ]
  },
  {
   "cell_type": "markdown",
   "metadata": {},
   "source": [
    "# Question 5"
   ]
  },
  {
   "cell_type": "code",
   "execution_count": 44,
   "metadata": {},
   "outputs": [
    {
     "name": "stdout",
     "output_type": "stream",
     "text": [
      "20\n",
      "18\n",
      "24\n",
      "36\n",
      "42\n",
      "61\n",
      "98\n"
     ]
    }
   ],
   "source": [
    "l = [2,6,20,15,14,18,24,36,42,61,98]\n",
    "for i in range(0,len(l)):\n",
    "    x = l[i]//2\n",
    "    if x>7:\n",
    "        print(l[i])\n",
    "        \n",
    "        "
   ]
  },
  {
   "cell_type": "code",
   "execution_count": null,
   "metadata": {},
   "outputs": [],
   "source": []
  }
 ],
 "metadata": {
  "kernelspec": {
   "display_name": "Python 3",
   "language": "python",
   "name": "python3"
  },
  "language_info": {
   "codemirror_mode": {
    "name": "ipython",
    "version": 3
   },
   "file_extension": ".py",
   "mimetype": "text/x-python",
   "name": "python",
   "nbconvert_exporter": "python",
   "pygments_lexer": "ipython3",
   "version": "3.7.6"
  }
 },
 "nbformat": 4,
 "nbformat_minor": 4
}
