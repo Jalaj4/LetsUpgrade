{
 "cells": [
  {
   "cell_type": "markdown",
   "metadata": {},
   "source": [
    "# Question 1"
   ]
  },
  {
   "cell_type": "code",
   "execution_count": 20,
   "metadata": {},
   "outputs": [
    {
     "name": "stdout",
     "output_type": "stream",
     "text": [
      "3\n",
      "5\n",
      "7\n",
      "11\n",
      "13\n",
      "17\n",
      "19\n"
     ]
    }
   ],
   "source": [
    "for num in range(2,20):\n",
    "    prime = True\n",
    "    for i in range(2,num):\n",
    "        if (num%i==0):\n",
    "            prime = False\n",
    "    if prime and num%2!=0:\n",
    "       print (num)"
   ]
  },
  {
   "cell_type": "markdown",
   "metadata": {},
   "source": [
    "# Question 2"
   ]
  },
  {
   "cell_type": "code",
   "execution_count": 17,
   "metadata": {},
   "outputs": [
    {
     "name": "stdout",
     "output_type": "stream",
     "text": [
      "JALAJKHANDELWAL\n",
      "jALAJkHANDELWAL\n",
      "jalajkhandelwal\n",
      "4\n",
      "jalajkhandelwal\n",
      "True\n",
      "True\n",
      "4\n",
      "True\n",
      "False\n",
      "False\n",
      "5\n",
      "False\n",
      "LestUpgrade\n"
     ]
    }
   ],
   "source": [
    "a = \"JalajKhandelwal\"\n",
    "x = a.upper()\n",
    "print(x)\n",
    "y = a.swapcase()\n",
    "print(y)\n",
    "z = a.lower()\n",
    "print(z)\n",
    "b = a.count(\"a\")\n",
    "print(b)\n",
    "c = a.casefold()\n",
    "print(c)\n",
    "d = a.endswith(\"l\")\n",
    "print(d)\n",
    "e = a.isalnum()\n",
    "print(e)\n",
    "f = a.find(\"j\")\n",
    "print(f)\n",
    "g = a.isalpha()\n",
    "print(g)\n",
    "h = a.isupper()\n",
    "print(h)\n",
    "i = a.islower()\n",
    "print(i)\n",
    "j = a.index('K')\n",
    "print(j)\n",
    "k = a.isdigit()\n",
    "print(k)\n",
    "l = a.replace(\"JalajKhandelwal\",\"LestUpgrade\")\n",
    "print(l)"
   ]
  },
  {
   "cell_type": "markdown",
   "metadata": {},
   "source": [
    "# Question 3"
   ]
  },
  {
   "cell_type": "code",
   "execution_count": 29,
   "metadata": {},
   "outputs": [],
   "source": [
    "def isPalindrome(s):\n",
    "    s=s.lower()\n",
    "    if s == s[::-1]:\n",
    "        return True\n",
    "    return False\n",
    "\n",
    "def isAnagram(s1,s2):\n",
    "    s1=s1.lower()\n",
    "    s2=s2.lower()\n",
    "    if sorted(s1)==sorted(s2):\n",
    "        return True\n",
    "    return False\n",
    "\n",
    "def anagram_palin():\n",
    "    flag=True\n",
    "    s1 =input(\"Enter a String :\")\n",
    "    if isPalindrome(s1):\n",
    "        print(s1,\" is Palindrome \")\n",
    "        flag=False\n",
    "     \n",
    "    s2 =input(\"Enter second String :\")\n",
    "    if isAnagram(s1,s2):\n",
    "        print(s1,\"and\",s2,\"Are anagram\")\n",
    "        flag=False\n",
    "      \n",
    "    if flag:\n",
    "        print(\"not Anagram and plaindrome\")"
   ]
  },
  {
   "cell_type": "code",
   "execution_count": 30,
   "metadata": {},
   "outputs": [
    {
     "name": "stdout",
     "output_type": "stream",
     "text": [
      "Case 1 :\n",
      "Enter a String :Jalaj\n",
      "Jalaj  is Palindrome \n",
      "Enter second String :jalaj\n",
      "Jalaj and jalaj Are anagram\n",
      "Case 2 :\n",
      "Enter a String :khandelwal\n",
      "Enter second String :cxssaf\n",
      "not Anagram and plaindrome\n"
     ]
    }
   ],
   "source": [
    "print(\"Case 1 :\")\n",
    "anagram_palin()\n",
    "print(\"Case 2 :\")\n",
    "anagram_palin()"
   ]
  },
  {
   "cell_type": "markdown",
   "metadata": {},
   "source": [
    "# Question 4"
   ]
  },
  {
   "cell_type": "code",
   "execution_count": 32,
   "metadata": {},
   "outputs": [
    {
     "name": "stdout",
     "output_type": "stream",
     "text": [
      "drhimani ranamumbai\n"
     ]
    }
   ],
   "source": [
    "str = \"Dr.Himani Rana_Mumbai\"\n",
    "res =\"\"\n",
    "for i in str:\n",
    "    if i.isalnum() or i ==\" \":\n",
    "        res+=i\n",
    "print(res.lower())\n"
   ]
  },
  {
   "cell_type": "code",
   "execution_count": null,
   "metadata": {},
   "outputs": [],
   "source": []
  }
 ],
 "metadata": {
  "kernelspec": {
   "display_name": "Python 3",
   "language": "python",
   "name": "python3"
  },
  "language_info": {
   "codemirror_mode": {
    "name": "ipython",
    "version": 3
   },
   "file_extension": ".py",
   "mimetype": "text/x-python",
   "name": "python",
   "nbconvert_exporter": "python",
   "pygments_lexer": "ipython3",
   "version": "3.7.6"
  }
 },
 "nbformat": 4,
 "nbformat_minor": 4
}
