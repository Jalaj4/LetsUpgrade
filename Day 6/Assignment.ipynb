{
 "cells": [
  {
   "cell_type": "markdown",
   "metadata": {},
   "source": [
    "# Question 1"
   ]
  },
  {
   "cell_type": "code",
   "execution_count": 42,
   "metadata": {},
   "outputs": [
    {
     "name": "stdout",
     "output_type": "stream",
     "text": [
      "String is :  jalajkhandelwal@apple.com\n",
      "Company is: apple\n"
     ]
    }
   ],
   "source": [
    "import re  #re is a special sequence of characters that helps you match or find other strings using a specialized syntax held in a pattern\n",
    "\n",
    "nm = \"jalajkhandelwal@apple.com\"\n",
    "print(\"String is : \",nm)\n",
    "\n",
    "m = re.search('lwal@(.+?).com', nm)\n",
    "if m:\n",
    "    found = m.group(1)\n",
    "    print(\"Company is:\",found)"
   ]
  },
  {
   "cell_type": "markdown",
   "metadata": {},
   "source": [
    "# Question 2"
   ]
  },
  {
   "cell_type": "code",
   "execution_count": 3,
   "metadata": {},
   "outputs": [
    {
     "name": "stdout",
     "output_type": "stream",
     "text": [
      "Enter the words to sort:google,openAi,apple,microsoft\n",
      "apple,google,microsoft,openAi\n"
     ]
    }
   ],
   "source": [
    "y=input(\"Enter the words to sort:\")\n",
    "y=y.split(\",\")\n",
    "y=sorted(y)\n",
    "print(\",\".join(y))"
   ]
  },
  {
   "cell_type": "markdown",
   "metadata": {},
   "source": [
    "# Question 4"
   ]
  },
  {
   "cell_type": "code",
   "execution_count": 21,
   "metadata": {},
   "outputs": [
    {
     "name": "stdout",
     "output_type": "stream",
     "text": [
      "4\n"
     ]
    }
   ],
   "source": [
    "def missingnum(x):\n",
    "    a = len(x)\n",
    "    total = (a + 1)*(a + 2)/2\n",
    "    sumx = sum(x) \n",
    "    return total - sumx\n",
    "\n",
    "x =[1,2,3,5,6]\n",
    "result = missingnum(x) \n",
    "print(int(result))\n"
   ]
  },
  {
   "cell_type": "markdown",
   "metadata": {},
   "source": [
    "# Question 5"
   ]
  },
  {
   "cell_type": "code",
   "execution_count": 22,
   "metadata": {},
   "outputs": [
    {
     "name": "stdout",
     "output_type": "stream",
     "text": [
      "[2, 16, 20, 7, 9]\n"
     ]
    }
   ],
   "source": [
    "def dup(x):\n",
    "    result=[]\n",
    "    for i in x:\n",
    "        if i not in result:\n",
    "            result.append(i)\n",
    "    return result\n",
    "x = [2,16,20,7,9,16]\n",
    "print(dup(x))"
   ]
  }
 ],
 "metadata": {
  "kernelspec": {
   "display_name": "Python 3",
   "language": "python",
   "name": "python3"
  },
  "language_info": {
   "codemirror_mode": {
    "name": "ipython",
    "version": 3
   },
   "file_extension": ".py",
   "mimetype": "text/x-python",
   "name": "python",
   "nbconvert_exporter": "python",
   "pygments_lexer": "ipython3",
   "version": "3.7.6"
  }
 },
 "nbformat": 4,
 "nbformat_minor": 4
}
